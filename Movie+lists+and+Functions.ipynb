{
 "cells": [
  {
   "cell_type": "code",
   "execution_count": 21,
   "metadata": {
    "collapsed": true
   },
   "outputs": [],
   "source": [
    "def print_welcome():\n",
    "    print(\"Welcome to the Future Value Calculator\")\n",
    "    print()"
   ]
  },
  {
   "cell_type": "code",
   "execution_count": 22,
   "metadata": {},
   "outputs": [
    {
     "name": "stdout",
     "output_type": "stream",
     "text": [
      "Welcome to the Future Value Calculator\n",
      "\n"
     ]
    }
   ],
   "source": [
    "print_welcome()"
   ]
  },
  {
   "cell_type": "code",
   "execution_count": 27,
   "metadata": {
    "collapsed": true
   },
   "outputs": [],
   "source": [
    "def HappyBirthday():\n",
    "    print(\"Happy Birthday to you!\")\n",
    "    print(\"Happy Birthday to you!\")\n",
    "    print(\"Happy Birthday dear Dave!\")\n",
    "    print(\"Happy Bithday to you!\")\n",
    "    print()"
   ]
  },
  {
   "cell_type": "code",
   "execution_count": 31,
   "metadata": {},
   "outputs": [
    {
     "name": "stdout",
     "output_type": "stream",
     "text": [
      "Happy Birthday to you!\n",
      "Happy Birthday to you!\n",
      "Happy Birthday dear Dave!\n",
      "Happy Bithday to you!\n"
     ]
    }
   ],
   "source": [
    "HappyBirthday()"
   ]
  },
  {
   "cell_type": "code",
   "execution_count": 67,
   "metadata": {
    "collapsed": true
   },
   "outputs": [],
   "source": [
    "def HappyBirthday(name):\n",
    "    print(\"Happy Birthday to you!\")\n",
    "    print(\"Happy Birthday to you!\")\n",
    "    print(\"Happy Birthday dear {0}!\".format(name))\n",
    "    print(\"Happy Bithday to you!\")"
   ]
  },
  {
   "cell_type": "code",
   "execution_count": 68,
   "metadata": {},
   "outputs": [
    {
     "name": "stdout",
     "output_type": "stream",
     "text": [
      "Happy Birthday to you!\n",
      "Happy Birthday to you!\n",
      "Happy Birthday dear (Terry)!\n",
      "Happy Bithday to you!\n"
     ]
    }
   ],
   "source": [
    "HappyBirthday(\"name\")"
   ]
  },
  {
   "cell_type": "code",
   "execution_count": 73,
   "metadata": {},
   "outputs": [
    {
     "name": "stdout",
     "output_type": "stream",
     "text": [
      "Hello Terry have a good day today is May 1\n",
      "Hello {0} {1} {2}\n"
     ]
    }
   ],
   "source": [
    "# Using placeholders\n",
    "Message= \"Hello {0} {1} {2}\"\n",
    "print (Message.format(\"Terry\", \"have a good day\", \"today is May 1\"))\n",
    "print (Message)"
   ]
  },
  {
   "cell_type": "code",
   "execution_count": 74,
   "metadata": {},
   "outputs": [
    {
     "name": "stdout",
     "output_type": "stream",
     "text": [
      "Hello Terry today is May 1 have a good day\n"
     ]
    }
   ],
   "source": [
    "# Changing the order of placeholders\n",
    "Message= \"Hello {0} {2} {1}\"\n",
    "print (Message.format(\"Terry\", \"have a good day\", \"today is May 1\"))"
   ]
  },
  {
   "cell_type": "code",
   "execution_count": 84,
   "metadata": {},
   "outputs": [
    {
     "ename": "SyntaxError",
     "evalue": "EOL while scanning string literal (<ipython-input-84-50e1dcf2b910>, line 5)",
     "output_type": "error",
     "traceback": [
      "\u001b[1;36m  File \u001b[1;32m\"<ipython-input-84-50e1dcf2b910>\"\u001b[1;36m, line \u001b[1;32m5\u001b[0m\n\u001b[1;33m    print (Message.format(\"Dave\", \"you are a great teacher\", \"today is May 32))\u001b[0m\n\u001b[1;37m                                                                               ^\u001b[0m\n\u001b[1;31mSyntaxError\u001b[0m\u001b[1;31m:\u001b[0m EOL while scanning string literal\n"
     ]
    }
   ],
   "source": [
    "# Permanently changing original message\n",
    "Message= \"Hello {2} {1} {0}\"\n",
    "Message = Message.format(\"Terry\", \"have a good day\", \"today is May 1\")\n",
    "print(Message) \n",
    "print (Message.format(\"Dave\", \"you are a great teacher\", \"today is May 32))"
   ]
  },
  {
   "cell_type": "code",
   "execution_count": 86,
   "metadata": {},
   "outputs": [
    {
     "name": "stdout",
     "output_type": "stream",
     "text": [
      "Hello Terry today is May 1 have a good day\n"
     ]
    }
   ],
   "source": [
    "print(Message)"
   ]
  },
  {
   "cell_type": "code",
   "execution_count": null,
   "metadata": {
    "collapsed": true
   },
   "outputs": [],
   "source": []
  },
  {
   "cell_type": "code",
   "execution_count": null,
   "metadata": {
    "collapsed": true
   },
   "outputs": [],
   "source": []
  },
  {
   "cell_type": "code",
   "execution_count": 11,
   "metadata": {},
   "outputs": [
    {
     "name": "stdout",
     "output_type": "stream",
     "text": [
      "Enter a movie you like or press 'q' to quit: q\n",
      "Beautiful Morning\n",
      "Big\n",
      "Trading Places\n",
      "Coming to America\n",
      "Living Single\n",
      "Do the Right Thing\n",
      "Mo'Better Blues\n",
      "Can't Stay Away\n",
      "This is US\n",
      "\n",
      "You will now exit the program.\n"
     ]
    }
   ],
   "source": [
    "filename = \"c:\\\\temp\\\\myfile.txt\"\n",
    "history = open(filename,'a')\n",
    "while True:\n",
    "    answer = input(\"Enter a movie you like or press 'q' to quit: \")\n",
    "    if answer.lower() == 'q':\n",
    "        break\n",
    "    else:\n",
    "        history.write(answer + \"\\n\")\n",
    "        print(\"You entered \" + answer)\n",
    "history.close()  \n",
    "\n",
    "history = open(filename, 'r')\n",
    "while True:\n",
    "    line = history.readline()\n",
    "    if line == \"\":\n",
    "        break\n",
    "    print(line,end=\"\")\n",
    "history.close()\n",
    "    \n",
    "print(\"\")\n",
    "print(\"You will now exit the program.\")\n"
   ]
  },
  {
   "cell_type": "code",
   "execution_count": 13,
   "metadata": {
    "collapsed": true
   },
   "outputs": [],
   "source": [
    "movielist = []\n",
    "history = open(filename,'r')\n",
    "while True:\n",
    "    line = history.readline()\n",
    "    if line == \"\":\n",
    "        break\n",
    "    else:\n",
    "        movielist.append(line)\n"
   ]
  },
  {
   "cell_type": "code",
   "execution_count": 14,
   "metadata": {
    "collapsed": true
   },
   "outputs": [],
   "source": [
    "movielist.sort()"
   ]
  },
  {
   "cell_type": "code",
   "execution_count": 15,
   "metadata": {},
   "outputs": [
    {
     "name": "stdout",
     "output_type": "stream",
     "text": [
      "1. Trading Places\n",
      "2. Beautiful Morning\n",
      "3. Big\n",
      "4. Can't Stay Away\n",
      "5. Coming to America\n",
      "6. Do the Right Thing\n",
      "7. Living Single\n",
      "8. Mo'Better Blues\n",
      "9. This is US\n"
     ]
    }
   ],
   "source": [
    "index = -1\n",
    "while index < len(movielist)-1:\n",
    "    print(\"{0}. {1}\" .format(index+2,movielist[index]),end=\"\")\n",
    "    index +=1"
   ]
  },
  {
   "cell_type": "code",
   "execution_count": 20,
   "metadata": {},
   "outputs": [
    {
     "name": "stdout",
     "output_type": "stream",
     "text": [
      "\n",
      "\n",
      "Another way to print a list:\n",
      "\n",
      "['Beautiful Morning\\n', 'Big\\n', \"Can't Stay Away\\n\", 'Coming to America\\n', 'Do the Right Thing\\n', 'Living Single\\n', \"Mo'Better Blues\\n\", 'This is US\\n', 'Trading Places\\n']\n",
      "\n",
      "\n"
     ]
    }
   ],
   "source": [
    "print()\n",
    "print()\n",
    "print(\"Another way to print a list:\\n\")\n",
    "print(movielist)\n",
    "print()\n",
    "print()"
   ]
  },
  {
   "cell_type": "code",
   "execution_count": 2,
   "metadata": {},
   "outputs": [
    {
     "name": "stdout",
     "output_type": "stream",
     "text": [
      "Enter the input file name: c:/temp/README.txt\n",
      "* 2\n",
      "Academic 1\n",
      "Acadmic 1\n",
      "Administrative 1\n",
      "After 1\n",
      "C: 2\n",
      "C:\\Temp 1\n",
      "C:\\Temp_DoNotDelete 1\n",
      "Campus 4\n",
      "Do 4\n",
      "IT 4\n",
      "It 1\n",
      "Manager 4\n",
      "NOT 4\n",
      "Temp 1\n",
      "This 1\n",
      "all 1\n",
      "applications 1\n",
      "assist 1\n",
      "be 2\n",
      "checkign 4\n",
      "classroom 1\n",
      "configuration 1\n",
      "contains 1\n",
      "copying 1\n",
      "data: 1\n",
      "delete 4\n",
      "drive 1\n",
      "folder 6\n",
      "from 1\n",
      "images 1\n",
      "in 1\n",
      "installed 1\n",
      "is 1\n",
      "it 1\n",
      "limited 1\n",
      "modify 4\n",
      "need 1\n",
      "number 1\n",
      "of 4\n",
      "on 2\n",
      "or 4\n",
      "placed 1\n",
      "rename 1\n",
      "that 1\n",
      "the 10\n",
      "this 4\n",
      "to 5\n",
      "tools 1\n",
      "two 1\n",
      "types 1\n",
      "with 5\n",
      "without 4\n",
      "workstation 1\n",
      "workstations 1\n"
     ]
    }
   ],
   "source": [
    "inName = input(\"Enter the input file name: \")\n",
    "inputFile = open(inName, 'r')\n",
    "uniqueWords = {}\n",
    "\n",
    "for line in inputFile:\n",
    "    words = line.split()\n",
    "    for word in words:\n",
    "        freq = uniqueWords.get(word, None)\n",
    "        if freq == None:\n",
    "            uniqueWords[word] = 1\n",
    "        else:\n",
    "            uniqueWords[word] = freq + 1\n",
    "words = list(uniqueWords.keys())\n",
    "words.sort()\n",
    "for word in words:\n",
    "    print(word, uniqueWords[word])"
   ]
  },
  {
   "cell_type": "code",
   "execution_count": 5,
   "metadata": {},
   "outputs": [
    {
     "name": "stdout",
     "output_type": "stream",
     "text": [
      "Enter a number or press {q} to quit: 55\n",
      "Enter the value or press {q} to quit: 45\n",
      "Enter a number or press {q} to quit: 100\n",
      "Enter the value or press {q} to quit: 100\n",
      "Enter a number or press {q} to quit: 50\n",
      "Enter the value or press {q} to quit: 50\n",
      "Enter a number or press {q} to quit: q\n",
      "\n",
      "Here are the values you have entered: \n",
      "50 50\n",
      "55 45\n",
      "100 100\n"
     ]
    }
   ],
   "source": [
    "quit = False\n",
    "amounts = {}\n",
    "while quit == False:\n",
    "    nmbr = input(\"Enter a number or press {q} to quit: \")\n",
    "    \n",
    "    if nmbr.lower()=='q'.lower():\n",
    "        quit = True\n",
    "    else:\n",
    "        key = int(nmbr)\n",
    "        if amounts.get(key):\n",
    "            print(\"You have entered \" + amounts[key])\n",
    "        else:\n",
    "            value = input(\"Enter the value or press {q} to quit: \")\n",
    "            if value.lower() != 'q'.lower():\n",
    "                amounts[key] = value\n",
    "            else:\n",
    "                quit = True\n",
    "\n",
    "print(\"\\nHere are the values you have entered: \")\n",
    "theKeys = list(amounts.keys())\n",
    "theKeys.sort()\n",
    "for key in theKeys:\n",
    "    print(key,amounts[key])"
   ]
  },
  {
   "cell_type": "code",
   "execution_count": null,
   "metadata": {
    "collapsed": true
   },
   "outputs": [],
   "source": []
  },
  {
   "cell_type": "code",
   "execution_count": null,
   "metadata": {
    "collapsed": true
   },
   "outputs": [],
   "source": []
  },
  {
   "cell_type": "code",
   "execution_count": null,
   "metadata": {
    "collapsed": true
   },
   "outputs": [],
   "source": []
  },
  {
   "cell_type": "code",
   "execution_count": null,
   "metadata": {
    "collapsed": true
   },
   "outputs": [],
   "source": []
  },
  {
   "cell_type": "code",
   "execution_count": null,
   "metadata": {
    "collapsed": true
   },
   "outputs": [],
   "source": []
  },
  {
   "cell_type": "code",
   "execution_count": null,
   "metadata": {
    "collapsed": true
   },
   "outputs": [],
   "source": []
  },
  {
   "cell_type": "code",
   "execution_count": null,
   "metadata": {
    "collapsed": true
   },
   "outputs": [],
   "source": []
  },
  {
   "cell_type": "code",
   "execution_count": null,
   "metadata": {
    "collapsed": true
   },
   "outputs": [],
   "source": []
  },
  {
   "cell_type": "code",
   "execution_count": null,
   "metadata": {
    "collapsed": true
   },
   "outputs": [],
   "source": []
  },
  {
   "cell_type": "code",
   "execution_count": null,
   "metadata": {
    "collapsed": true
   },
   "outputs": [],
   "source": []
  },
  {
   "cell_type": "code",
   "execution_count": null,
   "metadata": {
    "collapsed": true
   },
   "outputs": [],
   "source": []
  },
  {
   "cell_type": "code",
   "execution_count": null,
   "metadata": {
    "collapsed": true
   },
   "outputs": [],
   "source": []
  }
 ],
 "metadata": {
  "kernelspec": {
   "display_name": "Python 3",
   "language": "python",
   "name": "python3"
  },
  "language_info": {
   "codemirror_mode": {
    "name": "ipython",
    "version": 3
   },
   "file_extension": ".py",
   "mimetype": "text/x-python",
   "name": "python",
   "nbconvert_exporter": "python",
   "pygments_lexer": "ipython3",
   "version": "3.6.3"
  }
 },
 "nbformat": 4,
 "nbformat_minor": 2
}
