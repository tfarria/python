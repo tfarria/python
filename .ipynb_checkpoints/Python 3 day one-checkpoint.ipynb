{
 "cells": [
  {
   "cell_type": "code",
   "execution_count": 1,
   "metadata": {},
   "outputs": [
    {
     "ename": "SyntaxError",
     "evalue": "invalid syntax (<ipython-input-1-5d3d18fe24bf>, line 5)",
     "output_type": "error",
     "traceback": [
      "\u001b[1;36m  File \u001b[1;32m\"<ipython-input-1-5d3d18fe24bf>\"\u001b[1;36m, line \u001b[1;32m5\u001b[0m\n\u001b[1;33m    else:\u001b[0m\n\u001b[1;37m       ^\u001b[0m\n\u001b[1;31mSyntaxError\u001b[0m\u001b[1;31m:\u001b[0m invalid syntax\n"
     ]
    }
   ],
   "source": [
    "while True:\n",
    "    answer = input(\"Enter a movie you like or press 'q' to quit:\")\n",
    "    if answer.lower() == 'q':\n",
    "        break\n",
    "        else:\n",
    "            print(\"You entered + answer\")\n",
    "            \n",
    "print you(\"You will know exit the program\")\n",
    "\n",
    "'''\n",
    "A string is a sequence of zero or more characters.\n",
    "\n",
    "The len () function returns the number of characters in it's string argument.\n",
    "Each character occupies a posititon in the string. The positions range from 0 to the length of the string minus 1.\n",
    "A string is immutable. This means it does not change once it is created.\n",
    "\n",
    "The subscipt operator [] can be used to access a character at a given position in a string.\n",
    "'''\n",
    "s = \"This is my string\"\n",
    "\n",
    "i = 0\n",
    "\n",
    "numberSpace = 0\n",
    "\n",
    "print(len(s))\n",
    "\n",
    "print(s[4])\n",
    "\n",
    "print(\"Printing the subscript from 5 to 10: +s[5:10]\")\n",
    "\n",
    "for eachCharacter in range (lens(s)-1,-1,-1):\n",
    "    \n",
    "    print(s[eachCharater],end = \" \")\n",
    "    if s[eachCharacter]==\" \":\n",
    "        numberspaces + = 1\n",
    "        if s[eachCharacter].lower() == 'i'\n",
    "         i +=1"
   ]
  },
  {
   "cell_type": "code",
   "execution_count": null,
   "metadata": {
    "collapsed": true
   },
   "outputs": [],
   "source": []
  },
  {
   "cell_type": "code",
   "execution_count": 21,
   "metadata": {},
   "outputs": [
    {
     "name": "stdout",
     "output_type": "stream",
     "text": [
      "\n",
      "\n"
     ]
    },
    {
     "ename": "NameError",
     "evalue": "name 'i' is not defined",
     "output_type": "error",
     "traceback": [
      "\u001b[1;31m---------------------------------------------------------------------------\u001b[0m",
      "\u001b[1;31mNameError\u001b[0m                                 Traceback (most recent call last)",
      "\u001b[1;32m<ipython-input-21-0e53c6737fc4>\u001b[0m in \u001b[0;36m<module>\u001b[1;34m()\u001b[0m\n\u001b[0;32m      1\u001b[0m \u001b[1;32mprint\u001b[0m\u001b[1;33m(\u001b[0m\u001b[1;34m\"\\n\"\u001b[0m\u001b[1;33m)\u001b[0m\u001b[1;33m\u001b[0m\u001b[0m\n\u001b[1;32m----> 2\u001b[1;33m \u001b[1;32mprint\u001b[0m\u001b[1;33m(\u001b[0m\u001b[1;34m\"there are \"\u001b[0m \u001b[1;33m+\u001b[0m \u001b[0mstr\u001b[0m \u001b[1;33m(\u001b[0m\u001b[0mi\u001b[0m\u001b[1;33m)\u001b[0m \u001b[1;33m+\u001b[0m \u001b[1;34m\"i's in the string\"\u001b[0m\u001b[1;33m)\u001b[0m\u001b[1;33m\u001b[0m\u001b[0m\n\u001b[0m\u001b[0;32m      3\u001b[0m \u001b[1;32mprint\u001b[0m\u001b[1;33m(\u001b[0m\u001b[1;34m\"Ther are \"\u001b[0m \u001b[1;33m+\u001b[0m \u001b[0mstr\u001b[0m\u001b[1;33m(\u001b[0m\u001b[0mnumberSpace\u001b[0m\u001b[1;33m)\u001b[0m \u001b[1;33m+\u001b[0m \u001b[1;34m\"spaces.\"\u001b[0m\u001b[1;33m)\u001b[0m\u001b[1;33m\u001b[0m\u001b[0m\n",
      "\u001b[1;31mNameError\u001b[0m: name 'i' is not defined"
     ]
    }
   ],
   "source": [
    "print(\"\\n\")\n",
    "print(\"there are \" + str (i) + \"i's in the string\")\n",
    "print(\"Ther are \" + str(numberSpace) + \"spaces.\")"
   ]
  },
  {
   "cell_type": "code",
   "execution_count": 35,
   "metadata": {},
   "outputs": [
    {
     "name": "stdout",
     "output_type": "stream",
     "text": [
      "Enter a movie you like or press 'q' to quit:abc\n",
      "You enteredabc\n",
      "Enter a movie you like or press 'q' to quit:jhkjhjh\n",
      "You enteredjhkjhjh\n",
      "Enter a movie you like or press 'q' to quit:lklklk\n",
      "You enteredlklklk\n",
      "Enter a movie you like or press 'q' to quit:pppppp\n",
      "You enteredpppppp\n",
      "Enter a movie you like or press 'q' to quit:kkkkkkk\n",
      "You enteredkkkkkkk\n",
      "Enter a movie you like or press 'q' to quit:hhhhhh\n",
      "You enteredhhhhhh\n",
      "Enter a movie you like or press 'q' to quit:mmmmm\n",
      "You enteredmmmmm\n",
      "Enter a movie you like or press 'q' to quit:oooooo\n",
      "You enteredoooooo\n",
      "Enter a movie you like or press 'q' to quit:aaaaaaaa\n",
      "You enteredaaaaaaaa\n",
      "Enter a movie you like or press 'q' to quit:qqqqqqqqq\n",
      "You enteredqqqqqqqqq\n",
      "Enter a movie you like or press 'q' to quit:q\n",
      "You will know exit the program\n"
     ]
    }
   ],
   "source": [
    "while True:\n",
    "    answer = raw_input(\"Enter a movie you like or press 'q' to quit:\")\n",
    "    if answer.lower() == 'q':\n",
    "        break\n",
    "    else:\n",
    "        print (\"You entered\"+\" \"+ answer)\n",
    "            \n",
    "print \"You will know exit the program\""
   ]
  },
  {
   "cell_type": "code",
   "execution_count": null,
   "metadata": {
    "collapsed": true
   },
   "outputs": [],
   "source": []
  },
  {
   "cell_type": "code",
   "execution_count": null,
   "metadata": {
    "collapsed": true
   },
   "outputs": [],
   "source": []
  },
  {
   "cell_type": "code",
   "execution_count": 33,
   "metadata": {},
   "outputs": [
    {
     "name": "stdout",
     "output_type": "stream",
     "text": [
      "Enter a movie you like or press 'q' to quit:hi girls\n"
     ]
    },
    {
     "ename": "SyntaxError",
     "evalue": "unexpected EOF while parsing (<string>, line 1)",
     "output_type": "error",
     "traceback": [
      "\u001b[1;36m  File \u001b[1;32m\"<string>\"\u001b[1;36m, line \u001b[1;32m1\u001b[0m\n\u001b[1;33m    hi girls\u001b[0m\n\u001b[1;37m           ^\u001b[0m\n\u001b[1;31mSyntaxError\u001b[0m\u001b[1;31m:\u001b[0m unexpected EOF while parsing\n"
     ]
    }
   ],
   "source": [
    "\n",
    "\n",
    "'''\n",
    "A string is a sequence of zero or more characters.\n",
    "\n",
    "The len () function returns the number of characters in it's string argument.\n",
    "Each character occupies a posititon in the string. The positions range from 0 to the length of the string minus 1.\n",
    "A string is immutable. This means it does not change once it is created.\n",
    "\n",
    "The subscipt operator [] can be used to access a character at a given position in a string.\n",
    "'''\n",
    "s = \"This is my string\"\n",
    "\n",
    "i = 0\n",
    "\n",
    "numberSpace = 0\n",
    "\n",
    "print len (s)\n",
    "\n",
    "print s[4]\n",
    "\n",
    "print \"Printing the subscript from 5 to 10: +s[5:10]\"\n",
    "\n",
    "for eachCharacter in range (lens(s)-1,-1,-1):\n",
    "    \n",
    "    print s[eachCharater],end== \" \"\n",
    "    if s[eachCharacter]==\" \":\n",
    "        numberspaces += 1\n",
    "        if s[eachCharacter].lower() == 'i':\n",
    "            i +=1\n",
    "            print(\"\\n\")\n",
    "print(\"there are \" + str (i) + \"i's in the string\")\n",
    "print(\"Ther are \" + str(numberSpace) + \"spaces.\")"
   ]
  },
  {
   "cell_type": "code",
   "execution_count": null,
   "metadata": {
    "collapsed": true
   },
   "outputs": [],
   "source": []
  },
  {
   "cell_type": "code",
   "execution_count": null,
   "metadata": {
    "collapsed": true
   },
   "outputs": [],
   "source": []
  },
  {
   "cell_type": "code",
   "execution_count": null,
   "metadata": {
    "collapsed": true
   },
   "outputs": [],
   "source": []
  },
  {
   "cell_type": "code",
   "execution_count": null,
   "metadata": {
    "collapsed": true
   },
   "outputs": [],
   "source": []
  },
  {
   "cell_type": "code",
   "execution_count": null,
   "metadata": {
    "collapsed": true
   },
   "outputs": [],
   "source": []
  },
  {
   "cell_type": "code",
   "execution_count": null,
   "metadata": {
    "collapsed": true
   },
   "outputs": [],
   "source": []
  },
  {
   "cell_type": "code",
   "execution_count": null,
   "metadata": {
    "collapsed": true
   },
   "outputs": [],
   "source": []
  },
  {
   "cell_type": "code",
   "execution_count": null,
   "metadata": {
    "collapsed": true
   },
   "outputs": [],
   "source": []
  },
  {
   "cell_type": "code",
   "execution_count": null,
   "metadata": {
    "collapsed": true
   },
   "outputs": [],
   "source": []
  },
  {
   "cell_type": "code",
   "execution_count": null,
   "metadata": {
    "collapsed": true
   },
   "outputs": [],
   "source": []
  },
  {
   "cell_type": "code",
   "execution_count": null,
   "metadata": {
    "collapsed": true
   },
   "outputs": [],
   "source": []
  },
  {
   "cell_type": "code",
   "execution_count": null,
   "metadata": {
    "collapsed": true
   },
   "outputs": [],
   "source": []
  }
 ],
 "metadata": {
  "kernelspec": {
   "display_name": "Python 3",
   "language": "python",
   "name": "python3"
  },
  "language_info": {
   "codemirror_mode": {
    "name": "ipython",
    "version": 3
   },
   "file_extension": ".py",
   "mimetype": "text/x-python",
   "name": "python",
   "nbconvert_exporter": "python",
   "pygments_lexer": "ipython3",
   "version": "3.6.3"
  }
 },
 "nbformat": 4,
 "nbformat_minor": 2
}
