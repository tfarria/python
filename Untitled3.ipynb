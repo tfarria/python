{
 "cells": [
  {
   "cell_type": "code",
   "execution_count": 21,
   "metadata": {
    "collapsed": true
   },
   "outputs": [],
   "source": [
    "def print_welcome():\n",
    "    print(\"Welcome to the Future Value Calculator\")\n",
    "    print()"
   ]
  },
  {
   "cell_type": "code",
   "execution_count": 22,
   "metadata": {},
   "outputs": [
    {
     "name": "stdout",
     "output_type": "stream",
     "text": [
      "Welcome to the Future Value Calculator\n",
      "\n"
     ]
    }
   ],
   "source": [
    "print_welcome()"
   ]
  },
  {
   "cell_type": "code",
   "execution_count": 27,
   "metadata": {
    "collapsed": true
   },
   "outputs": [],
   "source": [
    "def HappyBirthday():\n",
    "    print(\"Happy Birthday to you!\")\n",
    "    print(\"Happy Birthday to you!\")\n",
    "    print(\"Happy Birthday dear Dave!\")\n",
    "    print(\"Happy Bithday to you!\")\n",
    "    print()"
   ]
  },
  {
   "cell_type": "code",
   "execution_count": 31,
   "metadata": {},
   "outputs": [
    {
     "name": "stdout",
     "output_type": "stream",
     "text": [
      "Happy Birthday to you!\n",
      "Happy Birthday to you!\n",
      "Happy Birthday dear Dave!\n",
      "Happy Bithday to you!\n"
     ]
    }
   ],
   "source": [
    "HappyBirthday()"
   ]
  },
  {
   "cell_type": "code",
   "execution_count": 67,
   "metadata": {
    "collapsed": true
   },
   "outputs": [],
   "source": [
    "def HappyBirthday(name):\n",
    "    print(\"Happy Birthday to you!\")\n",
    "    print(\"Happy Birthday to you!\")\n",
    "    print(\"Happy Birthday dear {0}!\".format(name))\n",
    "    print(\"Happy Bithday to you!\")"
   ]
  },
  {
   "cell_type": "code",
   "execution_count": 68,
   "metadata": {},
   "outputs": [
    {
     "name": "stdout",
     "output_type": "stream",
     "text": [
      "Happy Birthday to you!\n",
      "Happy Birthday to you!\n",
      "Happy Birthday dear (Terry)!\n",
      "Happy Bithday to you!\n"
     ]
    }
   ],
   "source": [
    "HappyBirthday(\"name\")"
   ]
  },
  {
   "cell_type": "code",
   "execution_count": 73,
   "metadata": {},
   "outputs": [
    {
     "name": "stdout",
     "output_type": "stream",
     "text": [
      "Hello Terry have a good day today is May 1\n",
      "Hello {0} {1} {2}\n"
     ]
    }
   ],
   "source": [
    "# Using placeholders\n",
    "Message= \"Hello {0} {1} {2}\"\n",
    "print (Message.format(\"Terry\", \"have a good day\", \"today is May 1\"))\n",
    "print (Message)"
   ]
  },
  {
   "cell_type": "code",
   "execution_count": 74,
   "metadata": {},
   "outputs": [
    {
     "name": "stdout",
     "output_type": "stream",
     "text": [
      "Hello Terry today is May 1 have a good day\n"
     ]
    }
   ],
   "source": [
    "# Changing the order of placeholders\n",
    "Message= \"Hello {0} {2} {1}\"\n",
    "print (Message.format(\"Terry\", \"have a good day\", \"today is May 1\"))"
   ]
  },
  {
   "cell_type": "code",
   "execution_count": 84,
   "metadata": {},
   "outputs": [
    {
     "ename": "SyntaxError",
     "evalue": "EOL while scanning string literal (<ipython-input-84-50e1dcf2b910>, line 5)",
     "output_type": "error",
     "traceback": [
      "\u001b[1;36m  File \u001b[1;32m\"<ipython-input-84-50e1dcf2b910>\"\u001b[1;36m, line \u001b[1;32m5\u001b[0m\n\u001b[1;33m    print (Message.format(\"Dave\", \"you are a great teacher\", \"today is May 32))\u001b[0m\n\u001b[1;37m                                                                               ^\u001b[0m\n\u001b[1;31mSyntaxError\u001b[0m\u001b[1;31m:\u001b[0m EOL while scanning string literal\n"
     ]
    }
   ],
   "source": [
    "# Permanently changing original message\n",
    "Message= \"Hello {2} {1} {0}\"\n",
    "Message = Message.format(\"Terry\", \"have a good day\", \"today is May 1\")\n",
    "print(Message) \n",
    "print (Message.format(\"Dave\", \"you are a great teacher\", \"today is May 32))"
   ]
  },
  {
   "cell_type": "code",
   "execution_count": 86,
   "metadata": {},
   "outputs": [
    {
     "name": "stdout",
     "output_type": "stream",
     "text": [
      "Hello Terry today is May 1 have a good day\n"
     ]
    }
   ],
   "source": [
    "print(Message)"
   ]
  },
  {
   "cell_type": "code",
   "execution_count": null,
   "metadata": {
    "collapsed": true
   },
   "outputs": [],
   "source": []
  },
  {
   "cell_type": "code",
   "execution_count": null,
   "metadata": {
    "collapsed": true
   },
   "outputs": [],
   "source": []
  },
  {
   "cell_type": "code",
   "execution_count": 11,
   "metadata": {},
   "outputs": [
    {
     "name": "stdout",
     "output_type": "stream",
     "text": [
      "Enter a movie you like or press 'q' to quit: q\n",
      "Beautiful Morning\n",
      "Big\n",
      "Trading Places\n",
      "Coming to America\n",
      "Living Single\n",
      "Do the Right Thing\n",
      "Mo'Better Blues\n",
      "Can't Stay Away\n",
      "This is US\n",
      "\n",
      "You will now exit the program.\n"
     ]
    }
   ],
   "source": [
    "filename = \"c:\\\\temp\\\\myfile.txt\"\n",
    "history = open(filename,'a')\n",
    "while True:\n",
    "    answer = input(\"Enter a movie you like or press 'q' to quit: \")\n",
    "    if answer.lower() == 'q':\n",
    "        break\n",
    "    else:\n",
    "        history.write(answer + \"\\n\")\n",
    "        print(\"You entered \" + answer)\n",
    "history.close()  \n",
    "\n",
    "history = open(filename, 'r')\n",
    "while True:\n",
    "    line = history.readline()\n",
    "    if line == \"\":\n",
    "        break\n",
    "    print(line,end=\"\")\n",
    "history.close()\n",
    "    \n",
    "print(\"\")\n",
    "print(\"You will now exit the program.\")\n"
   ]
  },
  {
   "cell_type": "code",
   "execution_count": 13,
   "metadata": {
    "collapsed": true
   },
   "outputs": [],
   "source": [
    "movielist = []\n",
    "history = open(filename,'r')\n",
    "while True:\n",
    "    line = history.readline()\n",
    "    if line == \"\":\n",
    "        break\n",
    "    else:\n",
    "        movielist.append(line)\n"
   ]
  },
  {
   "cell_type": "code",
   "execution_count": 14,
   "metadata": {
    "collapsed": true
   },
   "outputs": [],
   "source": [
    "movielist.sort()"
   ]
  },
  {
   "cell_type": "code",
   "execution_count": 15,
   "metadata": {},
   "outputs": [
    {
     "name": "stdout",
     "output_type": "stream",
     "text": [
      "1. Trading Places\n",
      "2. Beautiful Morning\n",
      "3. Big\n",
      "4. Can't Stay Away\n",
      "5. Coming to America\n",
      "6. Do the Right Thing\n",
      "7. Living Single\n",
      "8. Mo'Better Blues\n",
      "9. This is US\n"
     ]
    }
   ],
   "source": [
    "index = -1\n",
    "while index < len(movielist)-1:\n",
    "    print(\"{0}. {1}\" .format(index+2,movielist[index]),end=\"\")\n",
    "    index +=1"
   ]
  },
  {
   "cell_type": "code",
   "execution_count": 20,
   "metadata": {},
   "outputs": [
    {
     "name": "stdout",
     "output_type": "stream",
     "text": [
      "\n",
      "\n",
      "Another way to print a list:\n",
      "\n",
      "['Beautiful Morning\\n', 'Big\\n', \"Can't Stay Away\\n\", 'Coming to America\\n', 'Do the Right Thing\\n', 'Living Single\\n', \"Mo'Better Blues\\n\", 'This is US\\n', 'Trading Places\\n']\n",
      "\n",
      "\n"
     ]
    }
   ],
   "source": [
    "print()\n",
    "print()\n",
    "print(\"Another way to print a list:\\n\")\n",
    "print(movielist)\n",
    "print()\n",
    "print()"
   ]
  },
  {
   "cell_type": "code",
   "execution_count": null,
   "metadata": {
    "collapsed": true
   },
   "outputs": [],
   "source": []
  },
  {
   "cell_type": "code",
   "execution_count": null,
   "metadata": {
    "collapsed": true
   },
   "outputs": [],
   "source": []
  },
  {
   "cell_type": "code",
   "execution_count": null,
   "metadata": {
    "collapsed": true
   },
   "outputs": [],
   "source": []
  },
  {
   "cell_type": "code",
   "execution_count": null,
   "metadata": {
    "collapsed": true
   },
   "outputs": [],
   "source": []
  },
  {
   "cell_type": "code",
   "execution_count": null,
   "metadata": {
    "collapsed": true
   },
   "outputs": [],
   "source": []
  }
 ],
 "metadata": {
  "kernelspec": {
   "display_name": "Python 3",
   "language": "python",
   "name": "python3"
  },
  "language_info": {
   "codemirror_mode": {
    "name": "ipython",
    "version": 3
   },
   "file_extension": ".py",
   "mimetype": "text/x-python",
   "name": "python",
   "nbconvert_exporter": "python",
   "pygments_lexer": "ipython3",
   "version": "3.6.3"
  }
 },
 "nbformat": 4,
 "nbformat_minor": 2
}
